{
 "cells": [
  {
   "cell_type": "code",
   "execution_count": 2,
   "metadata": {},
   "outputs": [],
   "source": [
    "from dputils import scrape"
   ]
  },
  {
   "cell_type": "code",
   "execution_count": 13,
   "metadata": {},
   "outputs": [],
   "source": [
    "soup = scrape.get_webpage_data('https://www.ndtv.com/latest')"
   ]
  },
  {
   "cell_type": "code",
   "execution_count": 25,
   "metadata": {},
   "outputs": [],
   "source": [
    "t = {'tag':'div', 'attrs': {'class' : 'lisingNews'}}\n",
    "items = {'tag':'div','attrs': {'class' : 'news_Itm'}}\n",
    "title = {'tag':'h2', 'attrs': {'class' : 'newsHdng'}}\n",
    "deet = {'tag':'span','attrs':{'class':'posted-by'}}\n",
    "summary = {'tag':'p','attrs':{'class':'newsCont'}}"
   ]
  },
  {
   "cell_type": "code",
   "execution_count": 26,
   "metadata": {},
   "outputs": [
    {
     "name": "stdout",
     "output_type": "stream",
     "text": [
      "17 items found\n",
      "Item skipped at index: 3\n",
      "Item skipped at index: 7\n",
      "All items extracted\n",
      "[{'details': 'Written by Adarsh Srivastava  | Tuesday September 06, 2022',\n",
      "  'summary': 'National Law University (NLU) Delhi will start the application '\n",
      "             'process for the All India Law Entrance Test (AILET) 2023 '\n",
      "             'tomorrow, September 7.',\n",
      "  'title': 'AILET 2023: Application Process To Start Tomorrow; Details Here'},\n",
      " {'details': 'NDTV News Desk   | Tuesday September 06, 2022, Bengaluru',\n",
      "  'summary': 'While prices of the cars seen in video range from Rs 65 lakh to '\n",
      "             '2.5 crore, apartments in this neighbourhood, Divyasree 77 East, '\n",
      "             'cost Rs 7-10 crore',\n",
      "  'title': 'Video: Lexus, Bentley, BMW... In Upscale Bengaluru, Cars, Houses '\n",
      "           'Worth Crores Submerged'},\n",
      " {'details': 'Press Trust of India   | Tuesday September 06, 2022, Patna',\n",
      "  'summary': 'Former Union minister RCP Singh on Tuesday vented spleen against '\n",
      "             'Bihar Chief Minister Nitish Kumar, accusing him of \"betraying\" '\n",
      "             'his socialist roots by aligning with the Congress.',\n",
      "  'title': 'Nitish Kumar \"Betrayed\" His Socialist Roots, Says Former Minister'},\n",
      " {'details': 'Edited by NDTV Health Desk  | Tuesday September 06, 2022',\n",
      "  'summary': 'The nutritionist addresses three major hair problems in her '\n",
      "             'Instagram video.',\n",
      "  'title': 'Nutritionist-Approved Food Items Can Help You Tackling Hair '\n",
      "           'Problems'},\n",
      " {'details': 'Reported by Anurag Dwary | Tuesday September 06, 2022, Bhopal',\n",
      "  'summary': \"A stadium in Madhya Pradesh's Morena district turned into a \"\n",
      "             'battleground of two groups of youths preparing for recruitment '\n",
      "             \"into the country's armed forces.\",\n",
      "  'title': \"Stones, Lathi, Firing: Army Aspirants Clash In Madhya Pradesh's \"\n",
      "           'Morena'},\n",
      " {'details': 'Edited by Bhavya Sukheja  | Tuesday September 06, 2022',\n",
      "  'summary': \"NASA's Juno spacecraft recently captured the complex colours and \"\n",
      "             \"structure of Jupiter's surface. The striking image showed swirls \"\n",
      "             'of turquoise, milky white, deep ochre and dark blue covering the '\n",
      "             \"planet's surface in a mesmerising manner.\",\n",
      "  'title': \"NASA's Juno Mission Captures Jupiter's Complex Swirling Colours\"},\n",
      " {'details': 'Written by Sourabh Kulesh , Edited by Siddharth Suvarna  | '\n",
      "             'Tuesday September 06, 2022',\n",
      "  'summary': 'Apple Watch Pro may get several new bands and watch faces that '\n",
      "             'go with its extreme sports theme. Apple is also expected to '\n",
      "             'launch a new Apple Watch model that is “cheaper than the Apple '\n",
      "             'Watch SE.”',\n",
      "  'title': 'Apple Watch Pro to Get Exclusive Bands, Faces; New Affordable '\n",
      "           'Model Tipped'},\n",
      " {'details': 'Manya Singh   | Tuesday September 06, 2022',\n",
      "  'summary': 'Whole30 Diet: There are tight guidelines for this elimination '\n",
      "             'diet because it is quite thorough. You can find both a list of '\n",
      "             'foods that are prohibited and a list of foods that are '\n",
      "             'permitted.',\n",
      "  'title': \"What Is The Whole30 Diet? Here's Everything You Need To Know\"},\n",
      " {'details': 'Press Trust of India   | Tuesday September 06, 2022, Latur',\n",
      "  'summary': 'A man in an inebriated state allegedly stabbed and injured his '\n",
      "             \"wife for not making biryani for dinner in Maharashtra's Latur \"\n",
      "             'district, police said on Tuesday.',\n",
      "  'title': 'Man Stabs Wife For Not Making Biryani For Dinner: Mumbai Police'},\n",
      " {'details': 'Written by Nithya P Nair , Edited by Siddharth Suvarna  | '\n",
      "             'Tuesday September 06, 2022',\n",
      "  'summary': 'Apple is expected to unveil the iPhone 14 series on September 7. '\n",
      "             'Ahead of the launch, a leaked case of the upcoming iPhone 14 Pro '\n",
      "             'suggests bigger sensors than the iPhone 13 Pro. Additionally, '\n",
      "             'another leak indicates the colours of leather and silicon cases '\n",
      "             'for the new iPhone models.',\n",
      "  'title': 'Apple iPhone 14 Pro Tipped to Pack Larger Camera Lenses Than '\n",
      "           'iPhone 13 Pro, Case Colours Leak Online'},\n",
      " {'details': 'Priyaja Bakshi   | Tuesday September 06, 2022',\n",
      "  'summary': \"We can't have enough of pizza and therefore we have found the \"\n",
      "             'recipe for another exciting pizza flavoured snack, it is called '\n",
      "             'pizza baked potatoes!',\n",
      "  'title': 'Pizza Baked Potato Recipe: Pizza Meets Baked Potatoes In This '\n",
      "           'Crunchy And Cheesy Snack'},\n",
      " {'details': 'Agence France-Presse   | Tuesday September 06, 2022, Ballater',\n",
      "  'summary': \"Liz Truss on Tuesday officially became Britain's new prime \"\n",
      "             'minister, at an audience with head of state Queen Elizabeth II '\n",
      "             'after the resignation of Boris Johnson.',\n",
      "  'title': 'Liz Truss Appointed As UK PM At Audience With Queen'},\n",
      " {'details': 'Written by Niharika Sanjeeiv  | Tuesday September 06, 2022, New '\n",
      "             'Delhi',\n",
      "  'summary': 'Suniel Shetty has shared an adorable picture with his son Ahan '\n",
      "             'Shetty',\n",
      "  'title': \"Athiya And KL Rahul Are All Hearts For Suniel Shetty's Pic With \"\n",
      "           'Son Ahan'},\n",
      " {'details': 'Somdatta Saha   | Tuesday September 06, 2022',\n",
      "  'summary': 'Pulao in a kettle: It is easy, quick and can be easily '\n",
      "             'replicated by the ones who are new to cooking.',\n",
      "  'title': 'New In Kitchen? This Pulao Recipe In A Kettle Comes To Your '\n",
      "           'Rescue'},\n",
      " {'details': 'Press Trust of India   | Tuesday September 06, 2022, Noida',\n",
      "  'summary': 'With the arrest of one person from Madhya Pradesh, the Cyber '\n",
      "             'Crime wing of Uttar Pradesh Police on Tuesday claimed to have '\n",
      "             'busted a pan-India \"currency trading\" fraud involving fake demat '\n",
      "             'accounts.',\n",
      "  'title': \"UP Police Busts Rs 15 Crore 'Currency Trading' Fraud, 1 Arrested: \"\n",
      "           'Cops'}]\n"
     ]
    }
   ],
   "source": [
    "result = scrape.extract_many(soup, target=t, items=items, title=title, details=deet, summary=summary)\n",
    "from pprint import pprint\n",
    "pprint(result)"
   ]
  },
  {
   "cell_type": "code",
   "execution_count": null,
   "metadata": {},
   "outputs": [],
   "source": []
  }
 ],
 "metadata": {
  "kernelspec": {
   "display_name": "Python 3.9.13 ('base')",
   "language": "python",
   "name": "python3"
  },
  "language_info": {
   "codemirror_mode": {
    "name": "ipython",
    "version": 3
   },
   "file_extension": ".py",
   "mimetype": "text/x-python",
   "name": "python",
   "nbconvert_exporter": "python",
   "pygments_lexer": "ipython3",
   "version": "3.9.13"
  },
  "orig_nbformat": 4,
  "vscode": {
   "interpreter": {
    "hash": "203ec5af3e26acf3e3c83a4183d4b4efe59642f60e2721ccf6236536a59ece46"
   }
  }
 },
 "nbformat": 4,
 "nbformat_minor": 2
}
